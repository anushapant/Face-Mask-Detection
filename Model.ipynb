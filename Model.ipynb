{
  "nbformat": 4,
  "nbformat_minor": 0,
  "metadata": {
    "colab": {
      "provenance": [],
      "collapsed_sections": []
    },
    "kernelspec": {
      "name": "python3",
      "display_name": "Python 3"
    },
    "language_info": {
      "name": "python"
    },
    "accelerator": "GPU"
  },
  "cells": [
    {
      "cell_type": "code",
      "source": [
        "# DATA\n",
        "\n",
        "# Our dataset is in a Github Repository(link below) and will be cloned here.\n",
        "!git clone https://github.com/anushapant/Data-IML.git"
      ],
      "metadata": {
        "id": "6t6uohAxsfst",
        "colab": {
          "base_uri": "https://localhost:8080/"
        },
        "outputId": "68af80a4-c523-4eb3-b5e2-1795ad260620"
      },
      "execution_count": null,
      "outputs": [
        {
          "output_type": "stream",
          "name": "stdout",
          "text": [
            "Cloning into 'Data-IML'...\n",
            "remote: Enumerating objects: 11630, done.\u001b[K\n",
            "remote: Counting objects: 100% (11630/11630), done.\u001b[K\n",
            "remote: Compressing objects: 100% (11630/11630), done.\u001b[K\n",
            "remote: Total 11630 (delta 0), reused 11630 (delta 0), pack-reused 0\n",
            "Receiving objects: 100% (11630/11630), 326.21 MiB | 33.21 MiB/s, done.\n",
            "Checking out files: 100% (11792/11792), done.\n"
          ]
        }
      ]
    },
    {
      "cell_type": "code",
      "source": [
        "# LIBRARIES THAT NEED TO BE IMPORTED\n",
        "\n",
        "import numpy as np # for arrays and matrices\n",
        "import matplotlib.pyplot as plt # plotting\n",
        "from keras.models import Sequential \n",
        "from keras.layers import *\n",
        "from keras.preprocessing.image import *\n",
        "from keras.applications.vgg19 import VGG19\n",
        "import cv2"
      ],
      "metadata": {
        "id": "1AW0a1ERVIOl"
      },
      "execution_count": null,
      "outputs": []
    },
    {
      "cell_type": "code",
      "source": [
        "# DATA AUGMENTATION\n",
        "batchSize = 64\n",
        "# referred to tensorflow's documentation for usage and values\n",
        "train_aug_data_gen = ImageDataGenerator(\n",
        "        rescale=1./255,\n",
        "        shear_range=0.2,\n",
        "        zoom_range=0.2,\n",
        "        horizontal_flip=True)\n",
        "test_validation_aug_data_gen = ImageDataGenerator(rescale=1.0/255)\n",
        "\n",
        "# we are not giving flow_from_directory any value in the 'classes' arguement. In this case, it infers the classes based on the directory structure, with each subdirectory being a different class.\n",
        "train_data_generator = train_aug_data_gen.flow_from_directory(\n",
        "        'Data-IML/Train',\n",
        "        target_size=(128, 128),\n",
        "        batch_size=batchSize,\n",
        "        class_mode='categorical')\n",
        "test_data_generator = test_validation_aug_data_gen.flow_from_directory(\n",
        "        'Data-IML/Test',\n",
        "        target_size=(128, 128),\n",
        "        batch_size=batchSize,\n",
        "        class_mode='categorical')\n",
        "validation_data_generator = test_validation_aug_data_gen.flow_from_directory(\n",
        "        'Data-IML/Validation',\n",
        "        target_size=(128, 128),\n",
        "        batch_size=batchSize,\n",
        "        class_mode='categorical')"
      ],
      "metadata": {
        "colab": {
          "base_uri": "https://localhost:8080/"
        },
        "id": "VVCFVdnSVXO1",
        "outputId": "f6c77604-d470-4718-c12d-5c03d7931ef8"
      },
      "execution_count": null,
      "outputs": [
        {
          "output_type": "stream",
          "name": "stdout",
          "text": [
            "Found 10000 images belonging to 2 classes.\n",
            "Found 992 images belonging to 2 classes.\n",
            "Found 800 images belonging to 2 classes.\n"
          ]
        }
      ]
    },
    {
      "cell_type": "code",
      "source": [
        "base = VGG19(include_top=False, weights='imagenet', input_shape=(128,128,3)) #referred to tf's VGG19 documentation and application example\n",
        "\n",
        "# we changed the layers to no longer be trainable because we are fine-tuning the VGG19 model by training only the top layer\n",
        "# if this is not done, the will massive overfitting since the model is huge but our dataset of 12K images is small\n",
        "for l in base.layers:\n",
        "  l.trainable = False\n",
        "\n",
        "model = Sequential([base,Flatten(), Dense(2,activation='sigmoid')])\n",
        "\n",
        "# based on research online, we determined that the Adam optimizer seems to be an ideal option for us\n",
        "# we also compared the performance in the case of the Adam optimizer and the RMSprop optimizer, where the former led to better results\n",
        "\n",
        "model.compile(optimizer='adam', loss='categorical_crossentropy',metrics=['accuracy']) \n",
        "\n",
        "stepsEpoch = int(len(train_data_generator)) # recommended to be number of total training samples/ training batch size\n",
        "validationSteps = int(len(validation_data_generator)) # recommended to be number of total validation samples/ validation batch size\n",
        "\n",
        "# Here, rather than using model.fit, we are using model.fit_generator since we want the data to be augmented as per the specifications mentioned previously, for which we require the generator\n",
        "# we have already mentioned the batch size in the data_generators \n",
        "\n",
        "MODEL = model.fit_generator(generator=train_data_generator, validation_data=validation_data_generator, epochs=7, steps_per_epoch=stepsEpoch, validation_steps=validationSteps)"
      ],
      "metadata": {
        "id": "iSLWHqcYegU-",
        "colab": {
          "base_uri": "https://localhost:8080/"
        },
        "outputId": "fa972065-66d6-496e-cf04-720f49c92fc0"
      },
      "execution_count": null,
      "outputs": [
        {
          "output_type": "stream",
          "name": "stdout",
          "text": [
            "Downloading data from https://storage.googleapis.com/tensorflow/keras-applications/vgg19/vgg19_weights_tf_dim_ordering_tf_kernels_notop.h5\n",
            "80142336/80134624 [==============================] - 1s 0us/step\n",
            "80150528/80134624 [==============================] - 1s 0us/step\n"
          ]
        },
        {
          "output_type": "stream",
          "name": "stderr",
          "text": [
            "/usr/local/lib/python3.7/dist-packages/ipykernel_launcher.py:21: UserWarning: `Model.fit_generator` is deprecated and will be removed in a future version. Please use `Model.fit`, which supports generators.\n"
          ]
        },
        {
          "output_type": "stream",
          "name": "stdout",
          "text": [
            "Epoch 1/7\n",
            "157/157 [==============================] - 86s 444ms/step - loss: 0.0992 - accuracy: 0.9639 - val_loss: 0.0291 - val_accuracy: 0.9925\n",
            "Epoch 2/7\n",
            "157/157 [==============================] - 64s 405ms/step - loss: 0.0422 - accuracy: 0.9860 - val_loss: 0.0215 - val_accuracy: 0.9937\n",
            "Epoch 3/7\n",
            "157/157 [==============================] - 63s 400ms/step - loss: 0.0330 - accuracy: 0.9900 - val_loss: 0.0110 - val_accuracy: 0.9987\n",
            "Epoch 4/7\n",
            "157/157 [==============================] - 64s 405ms/step - loss: 0.0252 - accuracy: 0.9921 - val_loss: 0.0092 - val_accuracy: 0.9987\n",
            "Epoch 5/7\n",
            "157/157 [==============================] - 63s 403ms/step - loss: 0.0250 - accuracy: 0.9919 - val_loss: 0.0101 - val_accuracy: 0.9987\n",
            "Epoch 6/7\n",
            "157/157 [==============================] - 63s 401ms/step - loss: 0.0198 - accuracy: 0.9935 - val_loss: 0.0067 - val_accuracy: 0.9987\n",
            "Epoch 7/7\n",
            "157/157 [==============================] - 63s 399ms/step - loss: 0.0213 - accuracy: 0.9927 - val_loss: 0.0127 - val_accuracy: 0.9962\n"
          ]
        }
      ]
    },
    {
      "cell_type": "code",
      "source": [
        "# A trained version of this model (with 98.89% accuracy) has been saved and uploaded Github. It is being loaded from there in our Results notebook, where we are testing it with images.\n",
        "\n",
        "# Given below are loss and accuracy vs number of epoch graphs for this particular training run. \n",
        "# In the loss plot, we see that both the training and validation loss are gradually decreasing. However, as number of epochs increases, they start increasing again because of overfitting.\n",
        "# In the accuracy plot, we see both the training and validation loss gradually increasing. As the number of epochs increase, however, they both start falling. "
      ],
      "metadata": {
        "id": "PB9irVZXDLIE"
      },
      "execution_count": null,
      "outputs": []
    },
    {
      "cell_type": "code",
      "source": [
        "# Plot of the model's loss\n",
        "\n",
        "\n",
        "plt.plot(MODEL.history[\"val_loss\"])\n",
        "plt.plot(MODEL.history[\"loss\"])\n",
        "plt.xlabel(\"Epochs in the model\")\n",
        "plt.ylabel(\"Loss of the model\")\n",
        "plt.legend(['validation', 'training'])\n",
        "plt.xlim(0,6)\n",
        "plt.ylim(0, 0.1)\n",
        "plt.show()"
      ],
      "metadata": {
        "colab": {
          "base_uri": "https://localhost:8080/",
          "height": 283
        },
        "id": "1fM8Qh3lnMQ0",
        "outputId": "fa0e6e03-42ad-47ff-d0a7-6b44fff24626"
      },
      "execution_count": null,
      "outputs": [
        {
          "output_type": "display_data",
          "data": {
            "image/png": "[encoded data removed]",
            "text/plain": [
              "<Figure size 432x288 with 1 Axes>"
            ]
          },
          "metadata": {
            "needs_background": "light"
          }
        }
      ]
    },
    {
      "cell_type": "code",
      "source": [
        "# Plot of the model's accuracy\n",
        "\n",
        "\n",
        "plt.plot(MODEL.history[\"val_accuracy\"])\n",
        "plt.plot(MODEL.history[\"accuracy\"])\n",
        "plt.xlabel(\"Epochs in the model\")\n",
        "plt.ylabel(\"Accuracy of the model\")\n",
        "plt.legend(['validation', 'training'])\n",
        "plt.show()"
      ],
      "metadata": {
        "colab": {
          "base_uri": "https://localhost:8080/",
          "height": 281
        },
        "id": "ONA0ejmKmVal",
        "outputId": "b9703184-42fc-4217-a3f5-e79de9a0f19c"
      },
      "execution_count": null,
      "outputs": [
        {
          "output_type": "display_data",
          "data": {
            "image/png": "[encoded data removed]",
            "text/plain": [
              "<Figure size 432x288 with 1 Axes>"
            ]
          },
          "metadata": {
            "needs_background": "light"
          }
        }
      ]
    }
  ]
}